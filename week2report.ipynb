{
 "cells": [
  {
   "cell_type": "markdown",
   "metadata": {},
   "source": [
    "# In which neighbourhood a Restaurant can be opened?"
   ]
  },
  {
   "cell_type": "markdown",
   "metadata": {},
   "source": [
    "## Brief Introduction (Cover Page)"
   ]
  },
  {
   "cell_type": "markdown",
   "metadata": {},
   "source": [
    "In Toronto I went to one of my friend's house for dinner and had delicious food. In conversation with her, got to know that she would like to get into restaurant business. She wants her restaurant in a neighbourhood so that they get more customers.\n",
    "\n",
    "To suggest her the best neighborhood, below are the few things  that I considered along with competition.\n",
    "\n",
    "Accessibility\n",
    "If restaurant near residential or student living places, it provides better commute.\n",
    "\n",
    "Visibility\n",
    "If it is in a place where there are few other restaurants, shopping malls, grocery stores it givies more visibility\n",
    "\n",
    "Crime rate\n",
    "High crime rates can make potential customers uncomfortable. Therefore if restaurant is in a busy neighburhood surrounded by few other malls or restaurants, less crime rate more customers."
   ]
  },
  {
   "cell_type": "markdown",
   "metadata": {},
   "source": [
    "## Data We Need\n",
    "\n",
    "We will need geo-locational information about that specific borough and the neighborhoods in that borough. We specifically and technically mean the latitude and longitude numbers of that borough. We assume that it is \"North York\" in Toronto (as she lives near North York).\n",
    "\n",
    "I will need data about different venues in different neighborhoods of that specific borough. In order to gain that information I will use \"Foursquare\" locational information. As basic information, I will can obtain its precise latitude and longitude and also its distance from the center of the neighborhood. A typical request from Foursquare will provide us with the following information such as Postal code, neighborhood's latitude and longitude, venue, distance.\n"
   ]
  },
  {
   "cell_type": "markdown",
   "metadata": {},
   "source": [
    "## Some notes about Foursquare:\n",
    "\n",
    "Foursquare is a local search-and-discovery service mobile app which provides search results for its users (Wikipedia).\n",
    "Founded: New York City, New York, U.S\n",
    "Users: 60 million\n",
    "Date launched: March 11, 2009\n",
    "Employees: Over 200\n",
    "Founders: Dennis Crowley, Naveen Selvadurai\n",
    "Owner: Foursquare Labs, Inc."
   ]
  },
  {
   "cell_type": "markdown",
   "metadata": {},
   "source": [
    "### Identifying Neighborhoods inside \"North York\"\n",
    "\n",
    "We will use Postal Codes of different regions inside North York to find the list of neighborhoods. We will essentially obtain our information from https://en.wikipedia.org/wiki/List_of_postal_codes_of_Canada:_M and then process the table inside this site.to do this, I have Imported pandas\n",
    "Read html wiki link to tables data frame.\n",
    "To do this, I have used pd.read_html.\n",
    "Since wiki page has lot of data that is not need for this capstone, on the browser, right click on wiki page, click on view sorce code to find class name (wikitable sortable)and passed it to attributes.\n",
    "\n",
    "## Processing the Retrieved Data and Creating a DataFrome for All the Venues inside the Scarborough and North York:\n",
    "\n",
    "Using Foursquare api, got near by veneus and found out how many unique catogories are there. Did onehot encoding. Now, the dataset is fully ready to be used for machine learning (and statistical analysis) purposes. "
   ]
  },
  {
   "cell_type": "markdown",
   "metadata": {},
   "source": [
    "### Applying one of Machine Learning Techniques (K-Means Clustering)\n",
    "Here we cluster neighborhoods via K-means clustering method. We think that 5 clusters is enough and can cover the complexity of our problem. After clustering we will update our dataset and create a column representing the group for each neighborhood."
   ]
  },
  {
   "cell_type": "markdown",
   "metadata": {},
   "source": [
    "### Decision Making and Reporting Results\n",
    "\n",
    "Here for North York, I have used 5 clusters(k=5 ie 0,1,2,3,4). If we look at k=3 cluster, M3A zip code has park, decent restaurants and also shopping stores. It satisfies  few of above mentioned criteria like accessibility, visibility and less crime rate. This algorithm although is pretty straightforward yet is strongly powerful.\n",
    "\n",
    "### Results:\n",
    "\n",
    "Based on this analysis, the best recommended neighborhood will be:\n",
    "'Neighborhood': 'Parkwoods',\n",
    "'Postal Code': 'M3A',\n",
    "'Neighborhood Latitude': 43.753259,\n",
    "'Neighborhood Longitude': -79.329656\n"
   ]
  },
  {
   "cell_type": "code",
   "execution_count": null,
   "metadata": {},
   "outputs": [],
   "source": []
  }
 ],
 "metadata": {
  "kernelspec": {
   "display_name": "Python 3",
   "language": "python",
   "name": "python3"
  },
  "language_info": {
   "codemirror_mode": {
    "name": "ipython",
    "version": 3
   },
   "file_extension": ".py",
   "mimetype": "text/x-python",
   "name": "python",
   "nbconvert_exporter": "python",
   "pygments_lexer": "ipython3",
   "version": "3.7.0"
  }
 },
 "nbformat": 4,
 "nbformat_minor": 2
}
