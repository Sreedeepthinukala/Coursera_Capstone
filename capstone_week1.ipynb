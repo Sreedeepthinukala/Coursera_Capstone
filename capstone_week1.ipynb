{
 "cells": [
  {
   "cell_type": "markdown",
   "metadata": {},
   "source": [
    "# In which neighbourhood a Restaurant can be opened?"
   ]
  },
  {
   "cell_type": "markdown",
   "metadata": {},
   "source": [
    "## Problem:"
   ]
  },
  {
   "cell_type": "markdown",
   "metadata": {},
   "source": [
    "In Toronto I went to one of my friend's house for dinner and had delicious food. In conversation with her, got to know that she would like to get into restaurant business. She wants her restaurant in a neighbourhood so that they get more customers.\n",
    "\n",
    "Below are the few things  that need to be considered:\n",
    "\n",
    "### Accessibility\n",
    "If restaurant near residential or student living places, it provides better commute.\n",
    "\n",
    "### Visibility\n",
    "If it is in a place where thre are few other restaurants, shopping malls, grocery stores it givies more visibility\n",
    "\n",
    "### Crime rate \n",
    "High crime rates can make potential customers uncomfortable. Therefore if restaurant is in a busy neighbourhood surrounded by few other malls or restaurants, less crime rate more customers.\n",
    "\n"
   ]
  },
  {
   "cell_type": "markdown",
   "metadata": {},
   "source": [
    "## Data neede and problem solution"
   ]
  },
  {
   "cell_type": "markdown",
   "metadata": {},
   "source": [
    "- I will need geo-locational information about that specific borough and the neighborhoods in that borough(North York) i.e latitude and longitude of that borough. The Postal Codes that fall into that borough would also be sufficient. In fact I will first find neighborhoods inside the borough by their corresponding Postal Codes.\n",
    "\n",
    "- I will need data about different venues in different neighborhoods of that specific borough. In order to gain that information I will use \"Foursquare\" locational information. As basic information, I will can obtain its precise latitude and longitude and also its distance from the center of the neighborhood.  A typical request from Foursquare will provide us with the following information such as Postal code, neighborhood's latitude and longitude, venue, distance"
   ]
  },
  {
   "cell_type": "code",
   "execution_count": null,
   "metadata": {},
   "outputs": [],
   "source": []
  }
 ],
 "metadata": {
  "kernelspec": {
   "display_name": "Python 3",
   "language": "python",
   "name": "python3"
  },
  "language_info": {
   "codemirror_mode": {
    "name": "ipython",
    "version": 3
   },
   "file_extension": ".py",
   "mimetype": "text/x-python",
   "name": "python",
   "nbconvert_exporter": "python",
   "pygments_lexer": "ipython3",
   "version": "3.7.0"
  }
 },
 "nbformat": 4,
 "nbformat_minor": 2
}
